{
 "cells": [
  {
   "cell_type": "code",
   "execution_count": 27,
   "metadata": {},
   "outputs": [],
   "source": [
    "import torch\n",
    "import torchvision\n",
    "import torchvision.transforms as transforms\n",
    "import torch.nn as nn\n",
    "import matplotlib.pyplot as plt\n",
    "import numpy as np\n",
    "import torch.utils.tensorboard as tb\n",
    "import tqdm\n",
    "from torchsummary import summary\n",
    "import onnx\n",
    "import onnxruntime\n",
    "torch.backends.cudnn.benchmark = True\n"
   ]
  },
  {
   "cell_type": "code",
   "execution_count": 28,
   "metadata": {},
   "outputs": [],
   "source": [
    "train_transforms = transforms.Compose([\n",
    "    transforms.ToTensor(),\n",
    "    transforms.Normalize(mean=[0.4914, 0.4822, 0.4465],std=[0.2023, 0.1994, 0.2010]),\n",
    "    transforms.RandomHorizontalFlip(),\n",
    "    transforms.RandomRotation(10),\n",
    "    transforms.ColorJitter(),\n",
    "])\n",
    "test_transforms = transforms.Compose([\n",
    "    transforms.ToTensor(),\n",
    "    transforms.Normalize(mean=[0.4914, 0.4822, 0.4465],std=[0.2023, 0.1994, 0.2010]),\n",
    "])"
   ]
  },
  {
   "cell_type": "code",
   "execution_count": 29,
   "metadata": {},
   "outputs": [
    {
     "name": "stdout",
     "output_type": "stream",
     "text": [
      "Files already downloaded and verified\n",
      "Files already downloaded and verified\n"
     ]
    }
   ],
   "source": [
    "ds_train = torchvision.datasets.CIFAR10(root='./data', train=True, download=True, transform=train_transforms)\n",
    "ds_test = torchvision.datasets.CIFAR10(root='./data', train=False, download=True, transform=test_transforms)\n"
   ]
  },
  {
   "cell_type": "code",
   "execution_count": 30,
   "metadata": {},
   "outputs": [
    {
     "name": "stderr",
     "output_type": "stream",
     "text": [
      "Clipping input data to the valid range for imshow with RGB data ([0..1] for floats or [0..255] for integers).\n"
     ]
    },
    {
     "name": "stdout",
     "output_type": "stream",
     "text": [
      "torch.Size([3, 32, 32])\n",
      "(3072,)\n"
     ]
    },
    {
     "data": {
      "image/png": "[encoded data removed]",
      "text/plain": [
       "<Figure size 640x480 with 1 Axes>"
      ]
     },
     "metadata": {},
     "output_type": "display_data"
    },
    {
     "data": {
      "image/png": "[encoded data removed]",
      "text/plain": [
       "<Figure size 640x480 with 1 Axes>"
      ]
     },
     "metadata": {},
     "output_type": "display_data"
    }
   ],
   "source": [
    "print(ds_train[0][0].shape)\n",
    "plt.imshow(ds_train[0][0][0])\n",
    "plt.figure()\n",
    "plt.imshow(ds_train[0][0].permute(1,2,0))\n",
    "print(np.array(ds_train[0][0]).flatten().shape)\n",
    "np.save('test.npy', np.array(ds_train[0][0]).flatten())"
   ]
  },
  {
   "cell_type": "code",
   "execution_count": 31,
   "metadata": {},
   "outputs": [],
   "source": [
    "dl_train = torch.utils.data.DataLoader(ds_train, batch_size=64, shuffle=True, num_workers=4, drop_last = True, pin_memory=True)\n",
    "dl_test = torch.utils.data.DataLoader(ds_test, batch_size=64, shuffle=False, num_workers=4, drop_last = True, pin_memory=True)"
   ]
  },
  {
   "cell_type": "code",
   "execution_count": 32,
   "metadata": {},
   "outputs": [],
   "source": [
    "class Conv_bloc(nn.Module):\n",
    "    def __init__(self, in_channels, out_channels):\n",
    "        super().__init__()\n",
    "        self.conv1 = nn.Conv2d(in_channels, out_channels, 1)\n",
    "        self.conv = nn.Conv2d(in_channels, in_channels, 3, padding=1, groups=in_channels)\n",
    "        self.conv2 = nn.Conv2d(out_channels, out_channels, 1)\n",
    "        self.act = nn.ELU()\n",
    "\n",
    "    # def forward(self, x):\n",
    "    #     input_ = x\n",
    "    #     x = self.conv1(x)\n",
    "    #     x = self.act(x)\n",
    "    #     x = self.conv(x)\n",
    "    #     x = self.act(x)\n",
    "    #     x = x+input_\n",
    "    #     x = self.conv2(x)\n",
    "    #     x = self.act(x)\n",
    "    #     return x\n",
    "    def forward(self, x):\n",
    "        x = self.conv(x)\n",
    "        x = self.act(x)\n",
    "        x = self.conv1(x)\n",
    "        x = self.act(x)\n",
    "        x = self.conv2(x)\n",
    "        return x\n",
    "\n",
    "class MyCNN(nn.Module):\n",
    "    def __init__(self):\n",
    "        super().__init__()\n",
    "        self.conv1 = nn.Conv2d(3, 32, 3, padding=1)\n",
    "        self.ln1 = nn.LayerNorm((32,32,32)) #\n",
    "        self.conv2 = Conv_bloc(32, 64)\n",
    "        self.dp = nn.Dropout2d(0.1)\n",
    "        self.mpool = nn.MaxPool2d(2)\n",
    "        self.ln2 = nn.LayerNorm((64, 16, 16)) #\n",
    "        self.conv3 = Conv_bloc(64, 128)\n",
    "        self.mpool2 = nn.MaxPool2d(2)\n",
    "        self.ln3 = nn.LayerNorm((128,8,8)) #\n",
    "        self.conv4 = Conv_bloc(128, 256)\n",
    "        self.mpool3 = nn.MaxPool2d(2)\n",
    "        #self.ln4 = nn.LayerNorm((128, 4, 4)) #\n",
    "        self.conv5 = Conv_bloc(256, 128)\n",
    "        self.mpool4 = nn.MaxPool2d(2)\n",
    "        #self.ln5 = nn.LayerNorm((128, 2, 2)) #\n",
    "        self.conv6 = Conv_bloc(128, 64)\n",
    "        self.mpool5 = nn.MaxPool2d(2)\n",
    "\n",
    "        self.temp = None\n",
    "\n",
    "        self.flat = nn.Flatten()\n",
    "        self.fc1 = nn.Linear(512, 256) #\n",
    "        self.fc2 = nn.Linear(64, 10)\n",
    "        self.act = nn.ELU()\n",
    "\n",
    "    def forward(self, x):\n",
    "        x = self.conv1(x)\n",
    "        x = self.ln1(x) #\n",
    "        x = self.act(x)\n",
    "        x = self.conv2(x)\n",
    "        x = self.mpool(x)\n",
    "        x = self.dp(x)\n",
    "        x = self.ln2(x) #\n",
    "        x = self.conv3(x)\n",
    "        x = self.dp(x)\n",
    "        x = self.mpool2(x)\n",
    "        x = self.dp(x)\n",
    "        x = self.ln3(x) #\n",
    "        x = self.conv4(x)\n",
    "        x = self.mpool3(x)\n",
    "        x = self.dp(x)\n",
    "        #x = self.ln4(x) #\n",
    "        x = self.conv5(x)\n",
    "        x = self.mpool4(x)\n",
    "        x = self.dp(x)\n",
    "        #x = self.ln5(x) #\n",
    "        x = self.conv6(x)\n",
    "        x = self.mpool5(x)\n",
    "        x = self.dp(x)\n",
    "        # self.temp = x.detach().clone()\n",
    "        x = self.flat(x)\n",
    "        #x = self.fc1(x)\n",
    "        #x = self.act(x)\n",
    "        x = self.fc2(x)\n",
    "        #add softmax\n",
    "        #x = nn.functional.softmax(x, dim=1)\n",
    "        return x\n",
    "\n",
    "    def display(self):\n",
    "        temp = torch.reshape(self.temp, (1, 32, 32))\n",
    "        print(temp.shape)\n",
    "        plt.imshow(temp.permute(1,2,0))\n",
    "\n",
    "\n",
    "        "
   ]
  },
  {
   "cell_type": "code",
   "execution_count": 33,
   "metadata": {},
   "outputs": [],
   "source": [
    "net = MyCNN()\n",
    "dummy_input = torch.randn(1, 3, 32, 32)\n",
    "out = net(dummy_input)"
   ]
  },
  {
   "cell_type": "code",
   "execution_count": 34,
   "metadata": {},
   "outputs": [
    {
     "name": "stdout",
     "output_type": "stream",
     "text": [
      "----------------------------------------------------------------\n",
      "        Layer (type)               Output Shape         Param #\n",
      "================================================================\n",
      "            Conv2d-1           [-1, 32, 32, 32]             896\n",
      "         LayerNorm-2           [-1, 32, 32, 32]          65,536\n",
      "               ELU-3           [-1, 32, 32, 32]               0\n",
      "            Conv2d-4           [-1, 32, 32, 32]             320\n",
      "               ELU-5           [-1, 32, 32, 32]               0\n",
      "            Conv2d-6           [-1, 64, 32, 32]           2,112\n",
      "               ELU-7           [-1, 64, 32, 32]               0\n",
      "            Conv2d-8           [-1, 64, 32, 32]           4,160\n",
      "         Conv_bloc-9           [-1, 64, 32, 32]               0\n",
      "        MaxPool2d-10           [-1, 64, 16, 16]               0\n",
      "        Dropout2d-11           [-1, 64, 16, 16]               0\n",
      "        LayerNorm-12           [-1, 64, 16, 16]          32,768\n",
      "           Conv2d-13           [-1, 64, 16, 16]             640\n",
      "              ELU-14           [-1, 64, 16, 16]               0\n",
      "           Conv2d-15          [-1, 128, 16, 16]           8,320\n",
      "              ELU-16          [-1, 128, 16, 16]               0\n",
      "           Conv2d-17          [-1, 128, 16, 16]          16,512\n",
      "        Conv_bloc-18          [-1, 128, 16, 16]               0\n",
      "        Dropout2d-19          [-1, 128, 16, 16]               0\n",
      "        MaxPool2d-20            [-1, 128, 8, 8]               0\n",
      "        Dropout2d-21            [-1, 128, 8, 8]               0\n",
      "        LayerNorm-22            [-1, 128, 8, 8]          16,384\n",
      "           Conv2d-23            [-1, 128, 8, 8]           1,280\n",
      "              ELU-24            [-1, 128, 8, 8]               0\n",
      "           Conv2d-25            [-1, 256, 8, 8]          33,024\n",
      "              ELU-26            [-1, 256, 8, 8]               0\n",
      "           Conv2d-27            [-1, 256, 8, 8]          65,792\n",
      "        Conv_bloc-28            [-1, 256, 8, 8]               0\n",
      "        MaxPool2d-29            [-1, 256, 4, 4]               0\n",
      "        Dropout2d-30            [-1, 256, 4, 4]               0\n",
      "           Conv2d-31            [-1, 256, 4, 4]           2,560\n",
      "              ELU-32            [-1, 256, 4, 4]               0\n",
      "           Conv2d-33            [-1, 128, 4, 4]          32,896\n",
      "              ELU-34            [-1, 128, 4, 4]               0\n",
      "           Conv2d-35            [-1, 128, 4, 4]          16,512\n",
      "        Conv_bloc-36            [-1, 128, 4, 4]               0\n",
      "        MaxPool2d-37            [-1, 128, 2, 2]               0\n",
      "        Dropout2d-38            [-1, 128, 2, 2]               0\n",
      "           Conv2d-39            [-1, 128, 2, 2]           1,280\n",
      "              ELU-40            [-1, 128, 2, 2]               0\n",
      "           Conv2d-41             [-1, 64, 2, 2]           8,256\n",
      "              ELU-42             [-1, 64, 2, 2]               0\n",
      "           Conv2d-43             [-1, 64, 2, 2]           4,160\n",
      "        Conv_bloc-44             [-1, 64, 2, 2]               0\n",
      "        MaxPool2d-45             [-1, 64, 1, 1]               0\n",
      "        Dropout2d-46             [-1, 64, 1, 1]               0\n",
      "          Flatten-47                   [-1, 64]               0\n",
      "           Linear-48                   [-1, 10]             650\n",
      "================================================================\n",
      "Total params: 314,058\n",
      "Trainable params: 314,058\n",
      "Non-trainable params: 0\n",
      "----------------------------------------------------------------\n",
      "Input size (MB): 0.01\n",
      "Forward/backward pass size (MB): 6.15\n",
      "Params size (MB): 1.20\n",
      "Estimated Total Size (MB): 7.36\n",
      "----------------------------------------------------------------\n"
     ]
    }
   ],
   "source": [
    "# temp = net.temp\n",
    "# print(temp.shape)\n",
    "#net.display()\n",
    "summary(net, (3, 32, 32), device='cpu')"
   ]
  },
  {
   "cell_type": "code",
   "execution_count": 35,
   "metadata": {},
   "outputs": [],
   "source": [
    "# Check that MPS is available\n",
    "if not torch.backends.mps.is_available():\n",
    "    if not torch.backends.mps.is_built():\n",
    "        print(\"MPS not available because the current PyTorch install was not \"\n",
    "              \"built with MPS enabled.\")\n",
    "    else:\n",
    "        print(\"MPS not available because the current MacOS version is not 12.3+ \"\n",
    "              \"and/or you do not have an MPS-enabled device on this machine.\")"
   ]
  },
  {
   "cell_type": "code",
   "execution_count": 36,
   "metadata": {},
   "outputs": [
    {
     "name": "stderr",
     "output_type": "stream",
     "text": [
      "100%|██████████| 781/781 [01:02<00:00, 12.58it/s]\n"
     ]
    },
    {
     "name": "stdout",
     "output_type": "stream",
     "text": [
      "TRAIN Accuracy: 0.24500000476837158, Loss: 1553.7267482280731, epoch: 1\n"
     ]
    },
    {
     "name": "stderr",
     "output_type": "stream",
     "text": [
      "100%|██████████| 156/156 [00:26<00:00,  5.81it/s]\n"
     ]
    },
    {
     "name": "stdout",
     "output_type": "stream",
     "text": [
      "Model saved\n",
      "TEST Accuracy: 0.42179998755455017, Loss: 239.3330569267273, epoch: 1\n"
     ]
    },
    {
     "name": "stderr",
     "output_type": "stream",
     "text": [
      "100%|██████████| 781/781 [00:57<00:00, 13.68it/s]\n"
     ]
    },
    {
     "name": "stdout",
     "output_type": "stream",
     "text": [
      "TRAIN Accuracy: 0.47775998711586, Loss: 1108.598118185997, epoch: 2\n"
     ]
    },
    {
     "name": "stderr",
     "output_type": "stream",
     "text": [
      "100%|██████████| 156/156 [00:26<00:00,  5.79it/s]\n"
     ]
    },
    {
     "name": "stdout",
     "output_type": "stream",
     "text": [
      "Model saved\n",
      "TEST Accuracy: 0.5720999836921692, Loss: 183.498066842556, epoch: 2\n"
     ]
    },
    {
     "name": "stderr",
     "output_type": "stream",
     "text": [
      "100%|██████████| 781/781 [00:55<00:00, 14.06it/s]\n"
     ]
    },
    {
     "name": "stdout",
     "output_type": "stream",
     "text": [
      "TRAIN Accuracy: 0.5701599717140198, Loss: 924.1349996328354, epoch: 3\n"
     ]
    },
    {
     "name": "stderr",
     "output_type": "stream",
     "text": [
      "100%|██████████| 156/156 [00:26<00:00,  5.92it/s]\n"
     ]
    },
    {
     "name": "stdout",
     "output_type": "stream",
     "text": [
      "Model saved\n",
      "TEST Accuracy: 0.6341000199317932, Loss: 157.43407851457596, epoch: 3\n"
     ]
    },
    {
     "name": "stderr",
     "output_type": "stream",
     "text": [
      "100%|██████████| 781/781 [00:56<00:00, 13.88it/s]\n"
     ]
    },
    {
     "name": "stdout",
     "output_type": "stream",
     "text": [
      "TRAIN Accuracy: 0.6232200264930725, Loss: 816.2025579214096, epoch: 4\n"
     ]
    },
    {
     "name": "stderr",
     "output_type": "stream",
     "text": [
      "100%|██████████| 156/156 [00:26<00:00,  5.82it/s]\n"
     ]
    },
    {
     "name": "stdout",
     "output_type": "stream",
     "text": [
      "Model saved\n",
      "TEST Accuracy: 0.6676999926567078, Loss: 143.44434440135956, epoch: 4\n"
     ]
    },
    {
     "name": "stderr",
     "output_type": "stream",
     "text": [
      "100%|██████████| 781/781 [00:58<00:00, 13.37it/s]\n"
     ]
    },
    {
     "name": "stdout",
     "output_type": "stream",
     "text": [
      "TRAIN Accuracy: 0.6514000296592712, Loss: 760.2757424116135, epoch: 5\n"
     ]
    },
    {
     "name": "stderr",
     "output_type": "stream",
     "text": [
      "100%|██████████| 156/156 [00:26<00:00,  5.87it/s]"
     ]
    },
    {
     "name": "stdout",
     "output_type": "stream",
     "text": [
      "Model saved\n",
      "TEST Accuracy: 0.6748999953269958, Loss: 140.61465966701508, epoch: 5\n"
     ]
    },
    {
     "name": "stderr",
     "output_type": "stream",
     "text": [
      "\n"
     ]
    },
    {
     "data": {
      "text/plain": [
       "<All keys matched successfully>"
      ]
     },
     "execution_count": 36,
     "metadata": {},
     "output_type": "execute_result"
    }
   ],
   "source": [
    "loss_fn = nn.CrossEntropyLoss()\n",
    "optimizer = torch.optim.Adam(net.parameters(), lr=1e-3)\n",
    "n_epochs = 5\n",
    "scheduler = torch.optim.lr_scheduler.OneCycleLR(optimizer, max_lr=1e-3, steps_per_epoch=len(dl_train), epochs=n_epochs)\n",
    "\n",
    "\n",
    "writer = tb.SummaryWriter()\n",
    "writer.add_graph(net, torch.randn(1, 3, 32, 32))\n",
    "net = net.to(\"mps\")\n",
    "best_loss = np.inf\n",
    "for e in range(n_epochs):\n",
    "    net.train()\n",
    "    total_accuracy = 0\n",
    "    total_loss = 0\n",
    "    for X, y in tqdm.tqdm(dl_train):\n",
    "        X = X.to(\"mps\")\n",
    "        y = y.to(\"mps\")\n",
    "        pred = net(X)\n",
    "        loss = loss_fn(pred, y)\n",
    "        total_accuracy+= (pred.argmax(1)==y).sum().cpu().detach()\n",
    "        total_loss += loss.item()\n",
    "\n",
    "        optimizer.zero_grad()\n",
    "        loss.backward()\n",
    "        optimizer.step()\n",
    "        scheduler.step()\n",
    "\n",
    "    accuracy = total_accuracy /len(dl_train.dataset)\n",
    "    print(f'TRAIN Accuracy: {accuracy}, Loss: {total_loss}, epoch: {e+1}')\n",
    "\n",
    "    with torch.no_grad():\n",
    "        net.eval()\n",
    "        total_accuracy = 0\n",
    "        total_loss = 0\n",
    "        for X, y in tqdm.tqdm(dl_test):\n",
    "            X = X.to(\"mps\")\n",
    "            y = y.to(\"mps\")\n",
    "            pred = net(X)\n",
    "            loss = loss_fn(pred, y)\n",
    "            total_accuracy+= (pred.argmax(1)==y).sum().cpu().detach()\n",
    "            total_loss += loss.item()\n",
    "\n",
    "        accuracy = total_accuracy /len(dl_test.dataset)\n",
    "        if best_loss > total_loss:\n",
    "            best_loss = total_loss\n",
    "            torch.save(net.state_dict(), \"best_model_mps.pth\")\n",
    "            print(\"Model saved\")\n",
    "        print(f'TEST Accuracy: {accuracy}, Loss: {total_loss}, epoch: {e+1}')\n",
    "\n",
    "net.load_state_dict(torch.load(\"best_model_mps.pth\"))\n",
    "\n",
    "\n"
   ]
  },
  {
   "cell_type": "code",
   "execution_count": 37,
   "metadata": {},
   "outputs": [
    {
     "name": "stdout",
     "output_type": "stream",
     "text": [
      "================ Diagnostic Run torch.onnx.export version 2.0.1 ================\n",
      "verbose: False, log level: Level.ERROR\n",
      "======================= 0 NONE 0 NOTE 0 WARNING 0 ERROR ========================\n",
      "\n",
      "None\n"
     ]
    }
   ],
   "source": [
    "class_names = ['airplane','automobile','bird','cat','deer',\n",
    "                'dog','frog','horse','ship','truck']\n",
    "                \n",
    "net = MyCNN()\n",
    "dummy_input = torch.randn(1, 3, 32, 32)\n",
    "net.load_state_dict(torch.load(\"best_model_mps.pth\"))\n",
    "dummy_input = dummy_input.to(\"cpu\")  \n",
    "net = net.to(\"cpu\")  \n",
    "\n",
    "torch.onnx.export(net, dummy_input, \"model.onnx\", verbose=False, input_names= [\"input\"], output_names= [\"output\"], opset_version=13, dynamic_axes={'input': {0: 'batch_size'}, 'output': {0: 'batch_size'}}) #ONNX conversion\n",
    "#torch.save(net.state_dict(), \"model.pth\") #Pytorch weights saving\n",
    "writer.close()\n",
    "onnx_model = onnx.load(\"model.onnx\")\n",
    "print(onnx.checker.check_model(onnx_model))\n"
   ]
  },
  {
   "cell_type": "code",
   "execution_count": 38,
   "metadata": {},
   "outputs": [
    {
     "name": "stderr",
     "output_type": "stream",
     "text": [
      "100%|██████████| 156/156 [00:31<00:00,  4.96it/s]"
     ]
    },
    {
     "name": "stdout",
     "output_type": "stream",
     "text": [
      "TEST Accuracy: 0.6748999953269958, Loss: 140.61466526985168\n"
     ]
    },
    {
     "name": "stderr",
     "output_type": "stream",
     "text": [
      "\n"
     ]
    }
   ],
   "source": [
    "#evaluate onnx model\n",
    "ort_session = onnxruntime.InferenceSession(\"model.onnx\")\n",
    "def to_numpy(tensor):\n",
    "    return tensor.detach().cpu().numpy() if tensor.requires_grad else tensor.cpu().numpy()\n",
    "\n",
    "total_accuracy = 0\n",
    "total_loss = 0\n",
    "for X, y in tqdm.tqdm(dl_test):\n",
    "    #unbatch\n",
    "    ort_inputs = {ort_session.get_inputs()[0].name: to_numpy(X)}\n",
    "    \n",
    "    ort_outs = ort_session.run(None, ort_inputs)\n",
    "    pred = torch.from_numpy(ort_outs[0])\n",
    "    total_accuracy+= (pred.argmax(1)==y).sum().cpu().detach()\n",
    "    total_loss += loss_fn(pred, y).item()\n",
    "\n",
    "accuracy = total_accuracy /len(dl_test.dataset)\n",
    "print(f'TEST Accuracy: {accuracy}, Loss: {total_loss}')\n"
   ]
  }
 ],
 "metadata": {
  "kernelspec": {
   "display_name": "Python 3.11.5 64-bit",
   "language": "python",
   "name": "python3"
  },
  "language_info": {
   "codemirror_mode": {
    "name": "ipython",
    "version": 3
   },
   "file_extension": ".py",
   "mimetype": "text/x-python",
   "name": "python",
   "nbconvert_exporter": "python",
   "pygments_lexer": "ipython3",
   "version": "3.11.5"
  },
  "orig_nbformat": 4,
  "vscode": {
   "interpreter": {
    "hash": "b0fa6594d8f4cbf19f97940f81e996739fb7646882a419484c72d19e05852a7e"
   }
  }
 },
 "nbformat": 4,
 "nbformat_minor": 2
}
